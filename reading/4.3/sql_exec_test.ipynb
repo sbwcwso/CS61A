{
 "cells": [
  {
   "cell_type": "code",
   "execution_count": 4,
   "metadata": {},
   "outputs": [],
   "source": [
    "\n",
    "a = \"\"\"\n",
    "create table cities as\n",
    "select 38 as latitude, 122 as longitude, \"Berkeley\" as name union\n",
    "select 42,             71,               \"Cambridge\"        union\n",
    "sect 45,             93,               \"Minneapolis\";\n",
    "\"\"\".split(\"\\n\")"
   ]
  },
  {
   "cell_type": "code",
   "execution_count": 5,
   "metadata": {},
   "outputs": [
    {
     "data": {
      "text/plain": [
       "['',\n",
       " 'create table cities as',\n",
       " 'select 38 as latitude, 122 as longitude, \"Berkeley\" as name union',\n",
       " 'select 42,             71,               \"Cambridge\"        union',\n",
       " 'sect 45,             93,               \"Minneapolis\";',\n",
       " '']"
      ]
     },
     "execution_count": 5,
     "metadata": {},
     "output_type": "execute_result"
    }
   ],
   "source": [
    "a"
   ]
  },
  {
   "cell_type": "code",
   "execution_count": null,
   "metadata": {},
   "outputs": [],
   "source": []
  }
 ],
 "metadata": {
  "kernelspec": {
   "display_name": "Python 3",
   "language": "python",
   "name": "python3"
  },
  "language_info": {
   "codemirror_mode": {
    "name": "ipython",
    "version": 3
   },
   "file_extension": ".py",
   "mimetype": "text/x-python",
   "name": "python",
   "nbconvert_exporter": "python",
   "pygments_lexer": "ipython3",
   "version": "3.11.3"
  },
  "orig_nbformat": 4
 },
 "nbformat": 4,
 "nbformat_minor": 2
}
